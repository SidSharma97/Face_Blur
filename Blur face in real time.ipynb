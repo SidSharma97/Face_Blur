{
 "cells": [
  {
   "cell_type": "code",
   "execution_count": 2,
   "metadata": {},
   "outputs": [],
   "source": [
    "import dlib \n",
    "import cv2\n",
    "import numpy as np \n",
    "\n",
    "video_cap = cv2.VideoCapture(0)\n",
    "detector = dlib.get_frontal_face_detector()\n",
    "\n",
    "blurred = False\n",
    "framed = False\n",
    "\n",
    "while True:\n",
    "    ret, frame = video_cap.read()\n",
    "    \n",
    "    if(ret):\n",
    "        gray = cv2.cvtColor(frame, cv2.COLOR_BGR2GRAY)\n",
    "        \n",
    "        rects =detector(gray,0)\n",
    "        \n",
    "        for rect in rects:\n",
    "            x= rect.left()\n",
    "            y= rect.top()\n",
    "            x1= rect.right()\n",
    "            y1=rect.bottom()\n",
    "            \n",
    "            if blurred:\n",
    "                frame[y:y1, x:x1] = cv2.blur(frame[y:y1, x:x1], (25,25))\n",
    "                \n",
    "            if framed:\n",
    "                cv2.rectangle(frame,(x,y),(x1,y1),(0,0,255),2)\n",
    "                \n",
    "        cv2.imshow('Video Feed', frame)\n",
    "    \n",
    "    ch = 0xFF & cv2.waitKey(1)\n",
    "    \n",
    "    if ch == ord(\"b\"):\n",
    "        blurred = not blurred\n",
    "        \n",
    "    if ch == ord(\"f\"):\n",
    "        framed = not framed\n",
    "        \n",
    "    if ch== ord(\"q\"):\n",
    "        break\n",
    "        \n",
    "video_cap.release()\n",
    "cv2.destroyAllWindows()"
   ]
  },
  {
   "cell_type": "code",
   "execution_count": null,
   "metadata": {},
   "outputs": [],
   "source": []
  }
 ],
 "metadata": {
  "kernelspec": {
   "display_name": "Python 3",
   "language": "python",
   "name": "python3"
  },
  "language_info": {
   "codemirror_mode": {
    "name": "ipython",
    "version": 3
   },
   "file_extension": ".py",
   "mimetype": "text/x-python",
   "name": "python",
   "nbconvert_exporter": "python",
   "pygments_lexer": "ipython3",
   "version": "3.7.7"
  }
 },
 "nbformat": 4,
 "nbformat_minor": 4
}
